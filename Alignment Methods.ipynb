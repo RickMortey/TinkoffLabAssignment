{
 "cells": [
  {
   "cell_type": "code",
   "execution_count": 1,
   "id": "9ee8c9fd",
   "metadata": {
    "cellId": "0hmsrtff2a6ufyckfvnxl0i"
   },
   "outputs": [
    {
     "name": "stdout",
     "output_type": "stream",
     "text": [
      "Hello, world!\n"
     ]
    }
   ],
   "source": [
    "print(\"Hello, world!\")"
   ]
  },
  {
   "cell_type": "code",
   "execution_count": null,
   "id": "71f1c831",
   "metadata": {
    "cellId": "gjjd4g1nrvnj2ou51d4jwd"
   },
   "outputs": [],
   "source": []
  }
 ],
 "metadata": {
  "language_info": {
   "codemirror_mode": {
    "name": "ipython",
    "version": 3
   },
   "file_extension": ".py",
   "mimetype": "text/x-python",
   "name": "python",
   "nbconvert_exporter": "python",
   "pygments_lexer": "ipython3",
   "version": "3.7.7"
  },
  "notebookId": "49f3972d-a3ff-487d-ba2d-30b3de1321f3",
  "notebookPath": "TinkoffLabAssignment/TinkoffLabAssignment/Alignment Methods.ipynb"
 },
 "nbformat": 4,
 "nbformat_minor": 5
}
