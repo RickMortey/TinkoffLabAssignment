{
 "cells": [
  {
   "cell_type": "markdown",
   "id": "f507097c",
   "metadata": {
    "cellId": "g89yvcufidrrmqmlkfkkrl",
    "execution_id": "85c42a96-a3d9-48da-903b-73b89766d863"
   },
   "source": [
    "### Установка библиотек, импорты"
   ]
  },
  {
   "cell_type": "code",
   "execution_count": null,
   "id": "62d48473",
   "metadata": {
    "cellId": "jmx3o65so2i2o8lhnji5h"
   },
   "outputs": [],
   "source": [
    "#!g1.1\n",
    "%pip uninstall keras tensorflow transformers\n",
    "%pip install --upgrade keras tensorflow transformers"
   ]
  },
  {
   "cell_type": "code",
   "execution_count": 249,
   "id": "0b4ceb5d",
   "metadata": {
    "cellId": "2qckbeknhivaza2z17hjdi"
   },
   "outputs": [
    {
     "name": "stderr",
     "output_type": "stream",
     "text": [
      "2023-11-30 19:33:31.316255: E external/local_xla/xla/stream_executor/cuda/cuda_dnn.cc:9261] Unable to register cuDNN factory: Attempting to register factory for plugin cuDNN when one has already been registered\n",
      "2023-11-30 19:33:31.316470: E external/local_xla/xla/stream_executor/cuda/cuda_fft.cc:607] Unable to register cuFFT factory: Attempting to register factory for plugin cuFFT when one has already been registered\n",
      "2023-11-30 19:33:32.800936: E external/local_xla/xla/stream_executor/cuda/cuda_blas.cc:1515] Unable to register cuBLAS factory: Attempting to register factory for plugin cuBLAS when one has already been registered\n",
      "2023-11-30 19:33:42.693728: W tensorflow/compiler/tf2tensorrt/utils/py_utils.cc:38] TF-TRT Warning: Could not find TensorRT\n",
      "/home/jupyter/.local/lib/python3.10/site-packages/trl/trainer/ppo_config.py:141: UserWarning: The `optimize_cuda_cache` arguement will be deprecated soon, please use `optimize_device_cache` instead.\n",
      "  warnings.warn(\n"
     ]
    }
   ],
   "source": [
    "#!g1.1\n",
    "import torch\n",
    "from tqdm import tqdm\n",
    "import pandas as pd\n",
    "\n",
    "from dataclasses import dataclass, field\n",
    "from typing import Dict, Optional\n",
    "\n",
    "tqdm.pandas()\n",
    "\n",
    "from transformers import pipeline, AutoTokenizer, AutoModelForCausalLM\n",
    "from datasets import load_dataset\n",
    "from torch.utils.data import Dataset, DataLoader, RandomSampler, random_split\n",
    "\n",
    "from trl import PPOTrainer, PPOConfig, AutoModelForCausalLMWithValueHead, DPOTrainer\n",
    "from trl.core import LengthSampler"
   ]
  },
  {
   "cell_type": "code",
   "execution_count": 250,
   "id": "456f3461",
   "metadata": {
    "cellId": "8abtxsojnz5hdexe8q11f7"
   },
   "outputs": [],
   "source": [
    "#!g1.1\n",
    "device = 'cuda' if torch.cuda.is_available() else 'cpu'"
   ]
  },
  {
   "cell_type": "markdown",
   "id": "31e5c848",
   "metadata": {
    "cellId": "vbh46u4jkv9ckuq1w13",
    "execution_id": "f048eaab-4b94-4778-981c-3d42a6e52914"
   },
   "source": [
    "### Настраиваем конфиг"
   ]
  },
  {
   "cell_type": "code",
   "execution_count": 251,
   "id": "a88ef246",
   "metadata": {
    "cellId": "q5vlm0xp6kpux0qgptskzq"
   },
   "outputs": [],
   "source": [
    "#!g1.1\n",
    "\n",
    "kwargs = {\n",
    "    \"model_name\": \"lvwerra/gpt2-imdb\",\n",
    "    \"report_to\": \"wandb\",\n",
    "    \"learning_rate\": 1e-3,\n",
    "    \"per_device_train_batch_size\": 16,\n",
    "    \"max_length\": 512\n",
    "}"
   ]
  },
  {
   "cell_type": "markdown",
   "id": "0ae1cf3d",
   "metadata": {
    "cellId": "rx5ve1u7z7dtmx3qtiz3e",
    "execution_id": "4b8e2be1-7b06-44a9-b2f8-234f19ca9886"
   },
   "source": [
    "### Инициализация wandb"
   ]
  },
  {
   "cell_type": "code",
   "execution_count": 232,
   "id": "9c9655d9",
   "metadata": {
    "cellId": "3dnlczqpg8ghjxexjswsph"
   },
   "outputs": [
    {
     "data": {
      "text/html": [
       "<button onClick=\"this.nextSibling.style.display='block';this.style.display='none';\">Display W&B run</button><iframe src='https://wandb.ai/timuruttsal/TinkoffLabAssignment/runs/mh598ede?jupyter=true' style='border:none;width:100%;height:420px;display:none;'></iframe>"
      ],
      "text/plain": [
       "<wandb.sdk.wandb_run.Run at 0x7f9da7f138e0>"
      ]
     },
     "execution_count": 232,
     "metadata": {},
     "output_type": "execute_result"
    }
   ],
   "source": [
    "#!g1.1\n",
    "import wandb\n",
    "\n",
    "wandb.init()"
   ]
  },
  {
   "cell_type": "markdown",
   "id": "6ac8639f",
   "metadata": {
    "cellId": "2ebtmpk3grlo48d5aalgwq",
    "execution_id": "9d7e99b1-0d78-4839-978a-be3a1f4da7d8"
   },
   "source": [
    "### Создаём модель для обучения, референсную модель и токенизатор"
   ]
  },
  {
   "cell_type": "code",
   "execution_count": 253,
   "id": "e49d06db",
   "metadata": {
    "cellId": "p536kcaplnkx2j9rssgv6b"
   },
   "outputs": [
    {
     "data": {
      "application/vnd.jupyter.widget-view+json": {
       "model_id": "1d5c6f01bbca4bceb225e06c9d5eb9ce",
       "version_major": 2,
       "version_minor": 0
      },
      "text/plain": [
       "config.json:   0%|          | 0.00/577 [00:00<?, ?B/s]"
      ]
     },
     "metadata": {},
     "output_type": "display_data"
    },
    {
     "data": {
      "application/vnd.jupyter.widget-view+json": {
       "model_id": "1b5e72b98e744a7da4dff9bfda4e01df",
       "version_major": 2,
       "version_minor": 0
      },
      "text/plain": [
       "pytorch_model.bin:   0%|          | 0.00/548M [00:00<?, ?B/s]"
      ]
     },
     "metadata": {},
     "output_type": "display_data"
    },
    {
     "data": {
      "application/vnd.jupyter.widget-view+json": {
       "model_id": "e2c57e91cef34a868ad1d3f24b9823a4",
       "version_major": 2,
       "version_minor": 0
      },
      "text/plain": [
       "tokenizer_config.json:   0%|          | 0.00/17.0 [00:00<?, ?B/s]"
      ]
     },
     "metadata": {},
     "output_type": "display_data"
    },
    {
     "data": {
      "application/vnd.jupyter.widget-view+json": {
       "model_id": "037e1a96c2e6460b9c3ceddbf4c2ba00",
       "version_major": 2,
       "version_minor": 0
      },
      "text/plain": [
       "vocab.json:   0%|          | 0.00/899k [00:00<?, ?B/s]"
      ]
     },
     "metadata": {},
     "output_type": "display_data"
    },
    {
     "data": {
      "application/vnd.jupyter.widget-view+json": {
       "model_id": "310cb2371f3948f58ac5008d722e8a7b",
       "version_major": 2,
       "version_minor": 0
      },
      "text/plain": [
       "merges.txt:   0%|          | 0.00/456k [00:00<?, ?B/s]"
      ]
     },
     "metadata": {},
     "output_type": "display_data"
    },
    {
     "data": {
      "application/vnd.jupyter.widget-view+json": {
       "model_id": "33e8a8e17df34b7db88de0c0d01db2eb",
       "version_major": 2,
       "version_minor": 0
      },
      "text/plain": [
       "special_tokens_map.json:   0%|          | 0.00/90.0 [00:00<?, ?B/s]"
      ]
     },
     "metadata": {},
     "output_type": "display_data"
    }
   ],
   "source": [
    "#!g1.1\n",
    "model = AutoModelForCausalLM.from_pretrained(kwargs[\"model_name\"])\n",
    "ref_model = AutoModelForCausalLM.from_pretrained(kwargs[\"model_name\"])"
   ]
  },
  {
   "cell_type": "code",
   "execution_count": 312,
   "id": "c40f2f0e",
   "metadata": {
    "cellId": "c3ej4stv7slr1rzgckwuml"
   },
   "outputs": [],
   "source": [
    "#!g1.1\n",
    "tokenizer = AutoTokenizer.from_pretrained(kwargs[\"model_name\"], padding_side='left', return_tensors=\"pt\")\n",
    "\n",
    "tokenizer.pad_token = tokenizer.eos_token"
   ]
  },
  {
   "cell_type": "markdown",
   "id": "a3ad01bb",
   "metadata": {
    "cellId": "3dq3zm1ynbk95y928e5fjr",
    "execution_id": "c3c31284-5873-49e1-876b-dd931c968fbe"
   },
   "source": [
    "### Генерация и оценка текста"
   ]
  },
  {
   "cell_type": "code",
   "execution_count": 331,
   "id": "d2d9444f",
   "metadata": {
    "cellId": "9qukz884uhdjj2di9ffyf"
   },
   "outputs": [],
   "source": [
    "#!g1.1\n",
    "sent_kwargs = {\"top_k\": None, \"function_to_apply\": \"none\", \"batch_size\": 16}"
   ]
  },
  {
   "cell_type": "code",
   "execution_count": 332,
   "id": "1b12d20d",
   "metadata": {
    "cellId": "86a0ygi7g5vt5w6n8bjim"
   },
   "outputs": [],
   "source": [
    "#!g1.1\n",
    "sentiment_pipe = pipeline(model=\"lvwerra/distilbert-imdb\", device=device,  **sent_kwargs)"
   ]
  },
  {
   "cell_type": "code",
   "execution_count": 333,
   "id": "2a142428",
   "metadata": {
    "cellId": "oc065eds4fad2zehz5ji0q"
   },
   "outputs": [
    {
     "data": {
      "text/plain": [
       "[[{'label': 'NEGATIVE', 'score': 2.335048198699951},\n",
       "  {'label': 'POSITIVE', 'score': -2.7265758514404297}]]"
      ]
     },
     "execution_count": 333,
     "metadata": {},
     "output_type": "execute_result"
    }
   ],
   "source": [
    "#!g1.1\n",
    "text = \"this movie was really bad!!\"\n",
    "sentiment_pipe(text)"
   ]
  },
  {
   "cell_type": "code",
   "execution_count": 338,
   "id": "6e5ecdda",
   "metadata": {
    "cellId": "2u2tsezy5taf6t0b6i2tn5"
   },
   "outputs": [
    {
     "data": {
      "text/plain": [
       "[{'label': 'POSITIVE', 'score': 2.8005118370056152},\n",
       " {'label': 'NEGATIVE', 'score': -2.5074386596679688}]"
      ]
     },
     "execution_count": 338,
     "metadata": {},
     "output_type": "execute_result"
    }
   ],
   "source": [
    "#!g1.1\n",
    "text = \"this movie was really astonishing amazing beautiful!!\"\n",
    "sentiment_pipe(text, **sent_kwargs)"
   ]
  },
  {
   "cell_type": "code",
   "execution_count": 399,
   "id": "b9d2ecb9",
   "metadata": {
    "cellId": "y92q6amfz4k0xcr4ulfbns"
   },
   "outputs": [],
   "source": [
    "#!g1.1\n",
    "gen_kwargs = {\"min_length\": -1,\n",
    "              \"max_length\": 64,\n",
    "              \"top_k\": 0.0,\n",
    "              \"top_p\": 1.0,\n",
    "              \"do_sample\": True,\n",
    "              \"num_return_sequences\": 2,\n",
    "              \"pad_token_id\": tokenizer.eos_token_id}"
   ]
  },
  {
   "cell_type": "code",
   "execution_count": 400,
   "id": "549679bb",
   "metadata": {
    "cellId": "vo2vwu8n8v6xakq0ac1k6"
   },
   "outputs": [],
   "source": [
    "#!g1.1\n",
    "generator = pipeline('text-generation', model=kwargs[\"model_name\"], device=device, tokenizer=tokenizer, **gen_kwargs)"
   ]
  },
  {
   "cell_type": "markdown",
   "id": "1f17055b",
   "metadata": {
    "cellId": "ycdsv2c2x4a6tdgqbzs9li",
    "execution_id": "87d3103c-6d50-4b0e-8d62-7a53ba0e245d"
   },
   "source": [
    "Мы научились генерировать и оценивать positive/negative label текстов, а также генерировать данные! Настала пора создавать датасет"
   ]
  },
  {
   "cell_type": "code",
   "execution_count": 183,
   "id": "984ecd76",
   "metadata": {
    "cellId": "qonrgtgsm2l73yh9e56h"
   },
   "outputs": [],
   "source": [
    "#!g1.1\n",
    "new_prompt_chosen_rejected_list = {\"chosen\": [], \"rejected\": []}"
   ]
  },
  {
   "cell_type": "code",
   "execution_count": null,
   "id": "7d91216c",
   "metadata": {
    "cellId": "rxy77ea5wva0fpjtbimwsqi",
    "execution_id": "4cd9a45a-83c7-4136-b491-cf5b14fb7d78"
   },
   "outputs": [],
   "source": [
    "#!g1.1\n",
    "query = ''\n",
    "gen_kwargs[\"num_return_sequences\"] = 5\n",
    "output_min_length = 4\n",
    "output_max_length = 16\n",
    "output_length_sampler = LengthSampler(output_min_length, output_max_length)\n",
    "\n",
    "for i in tqdm(range(10000)):\n",
    "    gen_len = output_length_sampler()\n",
    "    gen_kwargs[\"max_new_tokens\"] = gen_len\n",
    "    texts_gen = generator(query, **gen_kwargs)\n",
    "    texts = [elem['generated_text'] for elem in texts_gen]\n",
    "    sentiment_samples = sentiment_pipe(texts, **sent_kwargs)\n",
    "    positive_scores = []\n",
    "    for sent in sentiment_samples:\n",
    "        for dict_label_score in sent:\n",
    "            if dict_label_score['label'] == 'POSITIVE':\n",
    "                positive_scores.append(dict_label_score['score'])\n",
    "    max_index = positive_scores.index(max(positive_scores))\n",
    "    min_index = positive_scores.index(min(positive_scores))\n",
    "    new_prompt_chosen_rejected_list[\"chosen\"].append(texts[max_index])\n",
    "    new_prompt_chosen_rejected_list[\"rejected\"].append(texts[min_index])"
   ]
  },
  {
   "cell_type": "code",
   "execution_count": 201,
   "id": "c455e06a",
   "metadata": {
    "cellId": "u5lcpihwvl8phxl507fw9"
   },
   "outputs": [],
   "source": [
    "#!g1.1\n",
    "new_prompt_chosen_rejected_list[\"prompt\"] = [tokenizer.pad_token for _ in range(len(new_prompt_chosen_rejected_list[\"chosen\"]))]"
   ]
  },
  {
   "cell_type": "code",
   "execution_count": 240,
   "id": "a27ebcd5",
   "metadata": {
    "cellId": "9voboild15r2mu1yu42a3j"
   },
   "outputs": [],
   "source": [
    "#!g1.1\n",
    "kwargs = {\n",
    "    \"model_name\": \"lvwerra/gpt2-imdb\",\n",
    "    \"report_to\": \"wandb\",\n",
    "    \"learning_rate\": 1e-3,\n",
    "    \"per_device_train_batch_size\": 16,\n",
    "    \"max_length\": 512,\n",
    "    \"max_steps\": 15000,\n",
    "    \"gradient_accumulation_steps\": 1,\n",
    "    \"beta\": 0.1\n",
    "}"
   ]
  },
  {
   "cell_type": "code",
   "execution_count": 203,
   "id": "9de4db0a",
   "metadata": {
    "cellId": "f0k0dp29r9liy9okzscc68"
   },
   "outputs": [],
   "source": [
    "#!g1.1\n",
    "from transformers import TrainingArguments"
   ]
  },
  {
   "cell_type": "code",
   "execution_count": 217,
   "id": "30c5cf9f",
   "metadata": {
    "cellId": "msp7g34sr8nbojxmr3paa"
   },
   "outputs": [],
   "source": [
    "#!g1.1\n",
    "train_split = {\"prompt\": new_prompt_chosen_rejected_list[\"prompt\"][:7000],\n",
    "                \"chosen\": new_prompt_chosen_rejected_list[\"chosen\"][:7000],\n",
    "                \"rejected\": new_prompt_chosen_rejected_list[\"rejected\"][:7000]}\n",
    "\n",
    "eval_split = {\"prompt\": new_prompt_chosen_rejected_list[\"prompt\"][7000:],\n",
    "                \"chosen\": new_prompt_chosen_rejected_list[\"chosen\"][7000:],\n",
    "                \"rejected\": new_prompt_chosen_rejected_list[\"rejected\"][7000:]}\n"
   ]
  },
  {
   "cell_type": "code",
   "execution_count": 219,
   "id": "e29d3e01",
   "metadata": {
    "cellId": "02qvk3ep2415p9rmwhuamjg"
   },
   "outputs": [],
   "source": [
    "#!g1.1\n",
    "import datasets\n",
    "train_dataset = datasets.Dataset.from_dict(train_split)\n",
    "eval_dataset = datasets.Dataset.from_dict(eval_split)"
   ]
  },
  {
   "cell_type": "code",
   "execution_count": 244,
   "id": "cd9934b4",
   "metadata": {
    "cellId": "nbznxdxpxrdo8hg43z9g7"
   },
   "outputs": [],
   "source": [
    "#!g1.1\n",
    "training_args = TrainingArguments(\n",
    "        per_device_train_batch_size=args[\"per_device_train_batch_size\"],\n",
    "        max_steps=args[\"max_steps\"],\n",
    "        remove_unused_columns=False,\n",
    "        gradient_accumulation_steps=args[\"gradient_accumulation_steps\"],\n",
    "        learning_rate=args[\"learning_rate\"],\n",
    "        evaluation_strategy=\"steps\",\n",
    "        logging_first_step=True,\n",
    "        logging_steps=10,\n",
    "        eval_steps=4000,\n",
    "        output_dir=\"./test\",\n",
    "        optim=\"rmsprop\",\n",
    "        warmup_steps=100,\n",
    "        report_to=args[\"report_to\"],\n",
    "        gradient_checkpointing=False,\n",
    "    )"
   ]
  },
  {
   "cell_type": "code",
   "execution_count": 245,
   "id": "1cc81eed",
   "metadata": {
    "cellId": "q0i1yc6aflr2kcaqqgf7eq"
   },
   "outputs": [],
   "source": [
    "#!g1.1\n",
    "dpo_trainer = DPOTrainer(\n",
    "        model,\n",
    "        ref_model,\n",
    "        args=training_args,\n",
    "        beta=kwargs[\"beta\"],\n",
    "        train_dataset=train_dataset,\n",
    "        eval_dataset=eval_dataset,\n",
    "        tokenizer=tokenizer,\n",
    "        max_length=kwargs[\"max_length\"],\n",
    "#         max_target_length=script_args.max_target_length,\n",
    "#         max_prompt_length=script_args.max_prompt_length,\n",
    "        generate_during_eval=True,\n",
    "    )\n"
   ]
  },
  {
   "cell_type": "code",
   "execution_count": null,
   "id": "8cff85c4",
   "metadata": {
    "cellId": "4ip5g67x3g4kn2mr79esu",
    "execution_id": "941a73af-8220-431f-992f-356b16ca0653"
   },
   "outputs": [],
   "source": [
    "#!g1.1\n",
    "dpo_trainer.train()"
   ]
  },
  {
   "cell_type": "markdown",
   "id": "1c6a4c61",
   "metadata": {
    "cellId": "97r1int5fo9cww2160nfy6",
    "execution_id": "5c96a0ce-7353-4705-9447-e91270f8cd36"
   },
   "source": [
    "Как вы можете видеть на графиках, результаты неутешительные. Попробуем сгенерировать тексты исходя из промптов датасета imdb, а также чуть большего размера. Посмотрим на результат."
   ]
  },
  {
   "cell_type": "markdown",
   "id": "b90ec0ff",
   "metadata": {
    "cellId": "czdc3e4wdzgnduqhgqepwn",
    "execution_id": "dd77d6ee-d5af-49ab-b03b-a586caf15a81"
   },
   "source": [
    "### Вспомогательная функция для генерации датасета"
   ]
  },
  {
   "cell_type": "code",
   "execution_count": 353,
   "id": "c20a5239",
   "metadata": {
    "cellId": "x6x5y2woh8qg45myjh9l65"
   },
   "outputs": [],
   "source": [
    "#!g1.1\n",
    "def collator(data):\n",
    "    return dict((key, [d[key] for d in data]) for key in data[0])"
   ]
  },
  {
   "cell_type": "code",
   "execution_count": 354,
   "id": "d9b7f13f",
   "metadata": {
    "cellId": "yg3q3tjkj7tk9dykxuly"
   },
   "outputs": [],
   "source": [
    "#!g1.1\n",
    "def build_dataset(kwargs, dataset_name=\"imdb\", input_min_text_length=2, input_max_text_length=8):\n",
    "    \"\"\"\n",
    "    Build dataset for training. This builds the dataset from `load_dataset`, one should\n",
    "    customize this function to train the model on its own dataset.\n",
    "\n",
    "    Args:\n",
    "        dataset_name (`str`):\n",
    "            The name of the dataset to be loaded.\n",
    "\n",
    "    Returns:\n",
    "        dataloader (`torch.utils.data.DataLoader`):\n",
    "            The dataloader for the dataset.\n",
    "    \"\"\"\n",
    "    tokenizer = AutoTokenizer.from_pretrained(kwargs[\"model_name\"])\n",
    "    tokenizer.pad_token = tokenizer.eos_token\n",
    "    # load imdb with datasets\n",
    "    ds = load_dataset(dataset_name, split=\"train\")\n",
    "    ds = ds.rename_columns({\"text\": \"review\"})\n",
    "    ds = ds.filter(lambda x: len(x[\"review\"]) > 200, batched=False)\n",
    "    ds = ds.filter(lambda x: len(x[\"review\"]) < 512, batched=False)\n",
    "\n",
    "#     input_size = LengthSampler(input_min_text_length, input_max_text_length)\n",
    "    input_size = 8\n",
    "    def tokenize(sample):\n",
    "        sample[\"input_ids\"] = tokenizer.encode(sample[\"review\"])[: input_size]\n",
    "        sample[\"query\"] = tokenizer.decode(sample[\"input_ids\"])\n",
    "        return sample\n",
    "\n",
    "    ds = ds.map(tokenize, batched=False)\n",
    "    ds.set_format(type=\"torch\")\n",
    "    return ds"
   ]
  },
  {
   "cell_type": "code",
   "execution_count": 355,
   "id": "f03db390",
   "metadata": {
    "cellId": "7vpxqv8vby6gr1o0ggni6a"
   },
   "outputs": [
    {
     "data": {
      "application/vnd.jupyter.widget-view+json": {
       "model_id": "986d0d1024fc4821a4fb41aacc6d3887",
       "version_major": 2,
       "version_minor": 0
      },
      "text/plain": [
       "Downloading builder script:   0%|          | 0.00/4.31k [00:00<?, ?B/s]"
      ]
     },
     "metadata": {},
     "output_type": "display_data"
    },
    {
     "data": {
      "application/vnd.jupyter.widget-view+json": {
       "model_id": "ff13ae74ca6e4dde9bc46228b85b8a99",
       "version_major": 2,
       "version_minor": 0
      },
      "text/plain": [
       "Downloading metadata:   0%|          | 0.00/2.17k [00:00<?, ?B/s]"
      ]
     },
     "metadata": {},
     "output_type": "display_data"
    },
    {
     "data": {
      "application/vnd.jupyter.widget-view+json": {
       "model_id": "ee74e01256d64f428088a48461249697",
       "version_major": 2,
       "version_minor": 0
      },
      "text/plain": [
       "Downloading readme:   0%|          | 0.00/7.59k [00:00<?, ?B/s]"
      ]
     },
     "metadata": {},
     "output_type": "display_data"
    },
    {
     "data": {
      "application/vnd.jupyter.widget-view+json": {
       "model_id": "45adcf549a4448ab91842458cb0fdfd2",
       "version_major": 2,
       "version_minor": 0
      },
      "text/plain": [
       "Downloading data:   0%|          | 0.00/84.1M [00:00<?, ?B/s]"
      ]
     },
     "metadata": {},
     "output_type": "display_data"
    },
    {
     "data": {
      "application/vnd.jupyter.widget-view+json": {
       "model_id": "d11d76f9c52d4c499006854e2ee8d6c1",
       "version_major": 2,
       "version_minor": 0
      },
      "text/plain": [
       "Generating train split:   0%|          | 0/25000 [00:00<?, ? examples/s]"
      ]
     },
     "metadata": {},
     "output_type": "display_data"
    },
    {
     "data": {
      "application/vnd.jupyter.widget-view+json": {
       "model_id": "7319e1ca21034b41bfd709aa07282d5b",
       "version_major": 2,
       "version_minor": 0
      },
      "text/plain": [
       "Generating test split:   0%|          | 0/25000 [00:00<?, ? examples/s]"
      ]
     },
     "metadata": {},
     "output_type": "display_data"
    },
    {
     "data": {
      "application/vnd.jupyter.widget-view+json": {
       "model_id": "3d7f5f665743471d8399cca8256aec34",
       "version_major": 2,
       "version_minor": 0
      },
      "text/plain": [
       "Generating unsupervised split:   0%|          | 0/50000 [00:00<?, ? examples/s]"
      ]
     },
     "metadata": {},
     "output_type": "display_data"
    },
    {
     "name": "stderr",
     "output_type": "stream",
     "text": [
      "Parameter 'function'=<function build_dataset.<locals>.<lambda> at 0x7f15648716c0> of the transform datasets.arrow_dataset.Dataset.filter@2.0.1 couldn't be hashed properly, a random hash was used instead. Make sure your transforms and parameters are serializable with pickle or dill for the dataset fingerprinting and caching to work. If you reuse this transform, the caching mechanism will consider it to be different from the previous calls and recompute everything. This warning is only showed once. Subsequent hashing failures won't be showed.\n"
     ]
    },
    {
     "data": {
      "application/vnd.jupyter.widget-view+json": {
       "model_id": "2794aa4efec84e8394d8844c1cc5dbb0",
       "version_major": 2,
       "version_minor": 0
      },
      "text/plain": [
       "Filter:   0%|          | 0/25000 [00:00<?, ? examples/s]"
      ]
     },
     "metadata": {},
     "output_type": "display_data"
    },
    {
     "data": {
      "application/vnd.jupyter.widget-view+json": {
       "model_id": "fe59846774ef4285b99989ff0304cf4d",
       "version_major": 2,
       "version_minor": 0
      },
      "text/plain": [
       "Map:   0%|          | 0/24895 [00:00<?, ? examples/s]"
      ]
     },
     "metadata": {},
     "output_type": "display_data"
    },
    {
     "name": "stderr",
     "output_type": "stream",
     "text": [
      "Token indices sequence length is longer than the specified maximum sequence length for this model (1168 > 1024). Running this sequence through the model will result in indexing errors\n"
     ]
    }
   ],
   "source": [
    "#!g1.1\n",
    "dataset = build_dataset(kwargs)"
   ]
  },
  {
   "cell_type": "code",
   "execution_count": 356,
   "id": "bbb4fa02",
   "metadata": {
    "cellId": "8c5r8r5tsyiaockezq5a9"
   },
   "outputs": [],
   "source": [
    "#!g1.1\n",
    "dataset = dataset.remove_columns(\"label\")"
   ]
  },
  {
   "cell_type": "code",
   "execution_count": 357,
   "id": "0a31a05a",
   "metadata": {
    "cellId": "iabvvl7yt4n51qp44x7yed"
   },
   "outputs": [],
   "source": [
    "#!g1.1\n",
    "dataset = dataset.remove_columns(\"review\")"
   ]
  },
  {
   "cell_type": "code",
   "execution_count": 358,
   "id": "b0242c05",
   "metadata": {
    "cellId": "rzo2m9cpj1lvvmeim5iblr"
   },
   "outputs": [],
   "source": [
    "#!g1.1\n",
    "loader = DataLoader(\n",
    "    dataset,\n",
    "    batch_size=sent_kwargs[\"batch_size\"],\n",
    "    shuffle=False,\n",
    "    num_workers=8\n",
    "    )"
   ]
  },
  {
   "cell_type": "markdown",
   "id": "1c607eba",
   "metadata": {
    "cellId": "0h8ixw945sjryxeds1efm",
    "execution_id": "64d5522f-d8a1-4ef1-a0ef-1d7718602a1f"
   },
   "source": [
    "### Посмотрим, как выглядят данные"
   ]
  },
  {
   "cell_type": "code",
   "execution_count": 359,
   "id": "93cfa5fb",
   "metadata": {
    "cellId": "owey7fxk8oh6o6xvtaqd"
   },
   "outputs": [
    {
     "data": {
      "text/plain": [
       "tensor([   40, 26399,   314,  3001,   327, 47269, 20958,    12])"
      ]
     },
     "execution_count": 359,
     "metadata": {},
     "output_type": "execute_result"
    }
   ],
   "source": [
    "#!g1.1\n",
    "dataset[0][\"input_ids\"]"
   ]
  },
  {
   "cell_type": "code",
   "execution_count": 360,
   "id": "50a298e7",
   "metadata": {
    "cellId": "mlx60kyntsmzzfy7qh4vch"
   },
   "outputs": [
    {
     "data": {
      "text/plain": [
       "'I rented I AM CURIOUS-'"
      ]
     },
     "execution_count": 360,
     "metadata": {},
     "output_type": "execute_result"
    }
   ],
   "source": [
    "#!g1.1\n",
    "tokenizer.decode(dataset[0][\"input_ids\"])"
   ]
  },
  {
   "cell_type": "markdown",
   "id": "85eba422",
   "metadata": {
    "cellId": "cwa4q5bkeyetj1nhoqxyt",
    "execution_id": "dbd4705e-5fde-4fe0-ad39-d13626041803"
   },
   "source": [
    "Мы видим, что в `input_ids` лежит обрезанное ревью. Пусть это будет нашим промптом. По этому промпту мы будем генерировать N выходов и среди них сделаем N-1 пар вида `winner-loser`, где `winner sentiment score` > `loser sentiment score`"
   ]
  },
  {
   "cell_type": "code",
   "execution_count": 408,
   "id": "0d55146a",
   "metadata": {
    "cellId": "kpd0t897vneuriseisnm8"
   },
   "outputs": [],
   "source": [
    "#!g1.1\n",
    "prompt_chosen_rejected_list = {\"prompt\": [], \"chosen\": [], \"rejected\": []}"
   ]
  },
  {
   "cell_type": "code",
   "execution_count": 366,
   "id": "415b5bf6",
   "metadata": {
    "cellId": "yaui5zdvfcr48hr37osgas"
   },
   "outputs": [],
   "source": [
    "#!g1.1\n",
    "import warnings\n",
    "warnings.filterwarnings(\"ignore\")"
   ]
  },
  {
   "cell_type": "code",
   "execution_count": null,
   "id": "180751ea",
   "metadata": {
    "cellId": "3ramkzevl321n67qvcqvax",
    "execution_id": "730e2a46-789c-4881-b226-03b4ccaa54b7"
   },
   "outputs": [
    {
     "name": "stderr",
     "output_type": "stream",
     "text": [
      "  1%|          | 8/1556 [02:06<6:42:58, 15.62s/it]"
     ]
    }
   ],
   "source": [
    "#!g1.1\n",
    "for d in tqdm(loader):\n",
    "    query = d[\"query\"]\n",
    "    generated_samples = generator(query, **gen_kwargs)\n",
    "    texts = []\n",
    "    for batch_elem in generated_samples:\n",
    "        for x in batch_elem:\n",
    "            texts.append(x['generated_text'])\n",
    "            \n",
    "    sentiment_samples = sentiment_pipe(texts, **sent_kwargs)\n",
    "    positive_scores = []\n",
    "    for sent in sentiment_samples:\n",
    "        for dict_label_score in sent:\n",
    "            if dict_label_score['label'] == 'POSITIVE':\n",
    "                positive_scores.append(dict_label_score['score'])\n",
    "    # generate only 2 samples\n",
    "    prompt_chosen_rejected_list[\"prompt\"].extend(query)\n",
    "    for i in range(0, 2*len(query), 2):\n",
    "        if positive_scores[i] > positive_scores[i+1]:\n",
    "            prompt_chosen_rejected_list[\"chosen\"].append(texts[i])\n",
    "            prompt_chosen_rejected_list[\"rejected\"].append(texts[i+1])\n",
    "        else:\n",
    "            prompt_chosen_rejected_list[\"chosen\"].append(texts[i+1])\n",
    "            prompt_chosen_rejected_list[\"rejected\"].append(texts[i])"
   ]
  },
  {
   "cell_type": "code",
   "execution_count": null,
   "id": "98465101",
   "metadata": {
    "cellId": "4iv9upu4hv3nz7ldrs65u",
    "execution_id": "482078d3-b229-4d64-ac84-7030eac7c48f"
   },
   "outputs": [],
   "source": [
    "#!g1.1\n",
    "import pickle\n",
    "\n",
    "\n",
    "with open(\"prompt_chosen_rejected_list.pkl\", \"wb\") as file:\n",
    "    pickle.dump(prompt_chosen_rejected_list, file)"
   ]
  },
  {
   "cell_type": "code",
   "execution_count": null,
   "id": "915c4ad6",
   "metadata": {
    "cellId": "1t92wlwnqqx2kexw0hd54c"
   },
   "outputs": [],
   "source": [
    "#!g1.1\n"
   ]
  }
 ],
 "metadata": {
  "language_info": {
   "codemirror_mode": {
    "name": "ipython",
    "version": 3
   },
   "file_extension": ".py",
   "mimetype": "text/x-python",
   "name": "python",
   "nbconvert_exporter": "python",
   "pygments_lexer": "ipython3",
   "version": "3.7.7"
  },
  "notebookId": "49f3972d-a3ff-487d-ba2d-30b3de1321f3",
  "notebookPath": "TinkoffLabAssignment/TinkoffLabAssignment/Alignment Methods.ipynb"
 },
 "nbformat": 4,
 "nbformat_minor": 5
}
